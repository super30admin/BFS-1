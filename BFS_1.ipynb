{
  "nbformat": 4,
  "nbformat_minor": 0,
  "metadata": {
    "colab": {
      "name": "BFS-1.ipynb",
      "provenance": []
    },
    "kernelspec": {
      "name": "python3",
      "display_name": "Python 3"
    },
    "language_info": {
      "name": "python"
    }
  },
  "cells": [
    {
      "cell_type": "markdown",
      "source": [
        "Level Order Traverssal in a Binary Tree"
      ],
      "metadata": {
        "id": "_jQvVE6KPYK-"
      }
    },
    {
      "cell_type": "markdown",
      "source": [
        "DFS"
      ],
      "metadata": {
        "id": "tKyAHGOYbgJL"
      }
    },
    {
      "cell_type": "code",
      "execution_count": 3,
      "metadata": {
        "colab": {
          "base_uri": "https://localhost:8080/"
        },
        "id": "X-SYfCiuOp_7",
        "outputId": "6241fbf2-9337-4e44-8e96-c7183476926e"
      },
      "outputs": [
        {
          "output_type": "stream",
          "name": "stdout",
          "text": [
            "[[27], [14, 35], [10, 19, 31, 42], [6]]\n"
          ]
        }
      ],
      "source": [
        "class Node:\n",
        " \n",
        "    def __init__(self, val):\n",
        " \n",
        "        self.left = None\n",
        "        self.right = None\n",
        "        self.val = val\n",
        "    def insert(self, val):\n",
        "        if self.val:\n",
        "            if val < self.val:\n",
        "                if self.left is None:\n",
        "                    self.left = Node(val)\n",
        "                else:\n",
        "                    self.left.insert(val)\n",
        "            elif val > self.val:\n",
        "                if self.right is None:\n",
        "                    self.right = Node(val)\n",
        "                else:\n",
        "                    self.right.insert(val)\n",
        "        else:\n",
        "            self.val = val\n",
        "    \n",
        "    def levelOrder(self, root):\n",
        "        \"\"\"\n",
        "        :type root: TreeNode\n",
        "        :rtype: List[List[int]]\n",
        "        \"\"\"\n",
        "        global result\n",
        "        result = []\n",
        "        self.dfs(root,0)\n",
        "        return result\n",
        "    def dfs(self,root,level):\n",
        "        if root is None:\n",
        "            return\n",
        "        if len(result) <= level:\n",
        "            result.append([])\n",
        "        result[level].append(root.val)\n",
        "        self.dfs(root.left,level+1)\n",
        "        self.dfs(root.right,level+1)\n",
        "root = Node(27)\n",
        "root.insert(14)\n",
        "root.insert(35)\n",
        "root.insert(10)\n",
        "root.insert(6)\n",
        "root.insert(19)\n",
        "root.insert(31)\n",
        "root.insert(42)\n",
        "levelOrder = root.levelOrder(root)\n",
        "print(levelOrder)\n"
      ]
    },
    {
      "cell_type": "markdown",
      "source": [
        "BFS"
      ],
      "metadata": {
        "id": "9SdFoMFcbi5m"
      }
    },
    {
      "cell_type": "code",
      "source": [
        "class Solution(object):\n",
        "    def levelOrder(self, root):\n",
        "        \"\"\"\n",
        "        :type root: TreeNode\n",
        "        :rtype: List[List[int]]\n",
        "        \"\"\"\n",
        "       \n",
        "\n",
        "class Node:\n",
        " \n",
        "    def __init__(self, val):\n",
        " \n",
        "        self.left = None\n",
        "        self.right = None\n",
        "        self.val = val\n",
        "    def insert(self, val):\n",
        "        if self.val:\n",
        "            if val < self.val:\n",
        "                if self.left is None:\n",
        "                    self.left = Node(val)\n",
        "                else:\n",
        "                    self.left.insert(val)\n",
        "            elif val > self.val:\n",
        "                if self.right is None:\n",
        "                    self.right = Node(val)\n",
        "                else:\n",
        "                    self.right.insert(val)\n",
        "        else:\n",
        "            self.val = val\n",
        "    \n",
        "    def levelOrder(self, root):\n",
        "        \"\"\"\n",
        "        :type root: TreeNode\n",
        "        :rtype: List[List[int]]\n",
        "        \"\"\"\n",
        "        if root is None:\n",
        "            return\n",
        "        q = []\n",
        "        q.append(root)\n",
        "        result = []\n",
        "        while len(q) != 0:\n",
        "            length = len(q)\n",
        "            list = []\n",
        "            for i in range(length):\n",
        "                node = q.pop(0)\n",
        "                list.append(node.val)\n",
        "                if node.left is not None:\n",
        "                    q.append(node.left)\n",
        "                if node.right is not None:\n",
        "                    q.append(node.right)\n",
        "            result.append(list)\n",
        "        return result\n",
        "        \n",
        "root = Node(27)\n",
        "root.insert(14)\n",
        "root.insert(35)\n",
        "root.insert(10)\n",
        "root.insert(6)\n",
        "root.insert(19)\n",
        "root.insert(31)\n",
        "root.insert(42)\n",
        "levelOrder = root.levelOrder(root)\n",
        "print(levelOrder)\n"
      ],
      "metadata": {
        "colab": {
          "base_uri": "https://localhost:8080/"
        },
        "id": "Bjlig3axbjr6",
        "outputId": "ba2ae461-b8f1-4432-b6e2-b621550601cc"
      },
      "execution_count": 4,
      "outputs": [
        {
          "output_type": "stream",
          "name": "stdout",
          "text": [
            "[[27], [14, 35], [10, 19, 31, 42], [6]]\n"
          ]
        }
      ]
    },
    {
      "cell_type": "markdown",
      "source": [
        "Right View of a Binary Tree"
      ],
      "metadata": {
        "id": "BRgE8qwkdJQf"
      }
    },
    {
      "cell_type": "markdown",
      "source": [
        "BFS"
      ],
      "metadata": {
        "id": "qYttVr-cdPJp"
      }
    },
    {
      "cell_type": "code",
      "source": [
        "class Node:\n",
        " \n",
        "    def __init__(self, val):\n",
        " \n",
        "        self.left = None\n",
        "        self.right = None\n",
        "        self.val = val\n",
        "    def insert(self, val):\n",
        "        if self.val:\n",
        "            if val < self.val:\n",
        "                if self.left is None:\n",
        "                    self.left = Node(val)\n",
        "                else:\n",
        "                    self.left.insert(val)\n",
        "            elif val > self.val:\n",
        "                if self.right is None:\n",
        "                    self.right = Node(val)\n",
        "                else:\n",
        "                    self.right.insert(val)\n",
        "        else:\n",
        "            self.val = val\n",
        "    \n",
        "    def rightSideView(self, root):\n",
        "        \"\"\"\n",
        "        :type root: TreeNode\n",
        "        :rtype: List[int]\n",
        "        \"\"\"\n",
        "        if root is None:\n",
        "            return\n",
        "        queue = []\n",
        "        queue.append(root)\n",
        "        right_view = []\n",
        "        while len(queue) != 0:\n",
        "            level_length = len(queue)\n",
        "            right_view.append(queue[-1].val)\n",
        "            for i in range(level_length):\n",
        "                node = queue.pop(0)\n",
        "                if node.left is not None:\n",
        "                    queue.append(node.left)\n",
        "                if node.right is not None:\n",
        "                    queue.append(node.right)\n",
        "        return right_view\n",
        "        \n",
        "root = Node(27)\n",
        "root.insert(14)\n",
        "root.insert(35)\n",
        "root.insert(10)\n",
        "root.insert(6)\n",
        "root.insert(19)\n",
        "root.insert(31)\n",
        "root.insert(42)\n",
        "rightView = root.rightSideView(root)\n",
        "print(rightView)"
      ],
      "metadata": {
        "colab": {
          "base_uri": "https://localhost:8080/"
        },
        "id": "1I40FtO6dM9w",
        "outputId": "6ba8b95b-52ff-42b3-82bc-c2178d7b2cd0"
      },
      "execution_count": 1,
      "outputs": [
        {
          "output_type": "stream",
          "name": "stdout",
          "text": [
            "[27, 35, 42, 6]\n"
          ]
        }
      ]
    },
    {
      "cell_type": "markdown",
      "source": [
        "DFS"
      ],
      "metadata": {
        "id": "2WKQgEas09mW"
      }
    },
    {
      "cell_type": "code",
      "source": [
        "class Node:\n",
        " \n",
        "    def __init__(self, val):\n",
        " \n",
        "        self.left = None\n",
        "        self.right = None\n",
        "        self.val = val\n",
        "    def insert(self, val):\n",
        "        if self.val:\n",
        "            if val < self.val:\n",
        "                if self.left is None:\n",
        "                    self.left = Node(val)\n",
        "                else:\n",
        "                    self.left.insert(val)\n",
        "            elif val > self.val:\n",
        "                if self.right is None:\n",
        "                    self.right = Node(val)\n",
        "                else:\n",
        "                    self.right.insert(val)\n",
        "        else:\n",
        "            self.val = val\n",
        "    \n",
        "    def rightSideView(self, root):\n",
        "        \"\"\"\n",
        "        :type root: TreeNode\n",
        "        :rtype: List[int]\n",
        "        \"\"\"\n",
        "        if root is None:\n",
        "            return []\n",
        "        global rightView\n",
        "        rightView = []\n",
        "        self.dfs(root,0)\n",
        "        return rightView\n",
        "    def dfs(self,root,level):\n",
        "      if root is None:\n",
        "        return\n",
        "      if len(rightView) == level :\n",
        "        rightView.append(root.val)\n",
        "      self.dfs(root.right,level+1)\n",
        "      self.dfs(root.left,level+1)\n",
        "        \n",
        "        \n",
        "root = Node(27)\n",
        "root.insert(14)\n",
        "root.insert(35)\n",
        "root.insert(10)\n",
        "root.insert(6)\n",
        "root.insert(19)\n",
        "root.insert(31)\n",
        "root.insert(42)\n",
        "rightView = root.rightSideView(root)\n",
        "print(rightView)"
      ],
      "metadata": {
        "colab": {
          "base_uri": "https://localhost:8080/"
        },
        "id": "hJFoBTUj0_eM",
        "outputId": "e063f907-02cb-4778-98bf-0b5b4fd90066"
      },
      "execution_count": 7,
      "outputs": [
        {
          "output_type": "stream",
          "name": "stdout",
          "text": [
            "[27, 35, 42, 6]\n"
          ]
        }
      ]
    },
    {
      "cell_type": "markdown",
      "source": [
        "Cousins in Tree"
      ],
      "metadata": {
        "id": "KEV5hFhS38_H"
      }
    },
    {
      "cell_type": "markdown",
      "source": [
        "BFS"
      ],
      "metadata": {
        "id": "DuGoJQv14BVp"
      }
    },
    {
      "cell_type": "code",
      "source": [
        "class Node:\n",
        " \n",
        "    def __init__(self, val):\n",
        " \n",
        "        self.left = None\n",
        "        self.right = None\n",
        "        self.val = val\n",
        "    def insert(self, val):\n",
        "        if self.val:\n",
        "            if val < self.val:\n",
        "                if self.left is None:\n",
        "                    self.left = Node(val)\n",
        "                else:\n",
        "                    self.left.insert(val)\n",
        "            elif val > self.val:\n",
        "                if self.right is None:\n",
        "                    self.right = Node(val)\n",
        "                else:\n",
        "                    self.right.insert(val)\n",
        "        else:\n",
        "            self.val = val\n",
        "    \n",
        "    def isCousins(self, root, x, y):\n",
        "        if root is None:\n",
        "            return\n",
        "        queue = []\n",
        "        queue.append(root)\n",
        "        while len(queue) != 0:\n",
        "            level_length = len(queue)\n",
        "            x_found = False\n",
        "            y_found = False\n",
        "            for i in range(level_length): \n",
        "                node = queue.pop(0)\n",
        "                if node.val == x:\n",
        "                    x_found = True\n",
        "                if node.val == y:\n",
        "                    y_found = True\n",
        "                if (node.left is not None and node.right is not None) and ((node.left.val == x and node.right.val == y) or (node.left.val == y and node.right.val == x )):\n",
        "                    return False\n",
        "                if node.left is not None:\n",
        "                    queue.append(node.left)\n",
        "                if node.right is not None:\n",
        "                    queue.append(node.right)\n",
        "            if x_found == True and y_found == True:\n",
        "                return True\n",
        "            if x_found or y_found:\n",
        "                return False\n",
        "        return False\n",
        "            \n",
        "        \n",
        "        \n",
        "root = Node(27)\n",
        "root.insert(14)\n",
        "root.insert(35)\n",
        "root.insert(10)\n",
        "root.insert(6)\n",
        "root.insert(19)\n",
        "root.insert(31)\n",
        "root.insert(42)\n",
        "cousins = root.isCousins(root,19,10)\n",
        "print(cousins)"
      ],
      "metadata": {
        "colab": {
          "base_uri": "https://localhost:8080/"
        },
        "id": "fNU8nKfa1Yeb",
        "outputId": "c19f8e40-9b33-4792-bd00-f42bb52b4de4"
      },
      "execution_count": 12,
      "outputs": [
        {
          "output_type": "stream",
          "name": "stdout",
          "text": [
            "False\n"
          ]
        }
      ]
    },
    {
      "cell_type": "markdown",
      "source": [
        "DFS"
      ],
      "metadata": {
        "id": "HGrg1C52DVDT"
      }
    },
    {
      "cell_type": "code",
      "source": [
        "class Node:\n",
        "    \n",
        "    def __init__(self, val):\n",
        " \n",
        "        self.left = None\n",
        "        self.right = None\n",
        "        self.val = val\n",
        "    def insert(self, val):\n",
        "        if self.val:\n",
        "            if val < self.val:\n",
        "                if self.left is None:\n",
        "                    self.left = Node(val)\n",
        "                else:\n",
        "                    self.left.insert(val)\n",
        "            elif val > self.val:\n",
        "                if self.right is None:\n",
        "                    self.right = Node(val)\n",
        "                else:\n",
        "                    self.right.insert(val)\n",
        "        else:\n",
        "            self.val = val\n",
        "    \n",
        "    def isCousins(self, root, x, y):\n",
        "        if root is None:\n",
        "          return\n",
        "        global parent_x\n",
        "        global parent_y\n",
        "        global level_x\n",
        "        global level_y\n",
        "        parent_x, parent_y = [], []\n",
        "        level_x, level_y = [], []\n",
        "        self.dfs(root, 0, root, x, y)\n",
        "        return (parent_x[0] != parent_y[0]) and (level_x[0] == level_y[0])\n",
        "    def dfs(self,root, level, parent,x ,y):\n",
        "      if root is None:\n",
        "        return\n",
        "      if root.val == x:\n",
        "        parent_x.append(parent.val)\n",
        "        level_x.append(level)\n",
        "        \n",
        "      if root.val == y:\n",
        "        parent_y.append(parent.val)\n",
        "        level_y.append(level)\n",
        "\n",
        "       \n",
        "      self.dfs(root.left,level+1,root,x,y)\n",
        "      self.dfs(root.right,level+1,root,x,y)\n",
        "\n",
        "\n",
        "      \n",
        "            \n",
        "       \n",
        "        \n",
        "root = Node(27)\n",
        "root.insert(14)\n",
        "root.insert(35)\n",
        "root.insert(10)\n",
        "root.insert(6)\n",
        "root.insert(19)\n",
        "root.insert(31)\n",
        "root.insert(42)\n",
        "cousins = root.isCousins(root,19,14)\n",
        "print(parent_x, parent_y, level_x, level_y) \n",
        "print(cousins)"
      ],
      "metadata": {
        "colab": {
          "base_uri": "https://localhost:8080/"
        },
        "id": "X_TZP13SDWyv",
        "outputId": "d7add635-a6fb-4b21-8dd9-5e06907e4854"
      },
      "execution_count": 34,
      "outputs": [
        {
          "output_type": "stream",
          "name": "stdout",
          "text": [
            "[27] [1]\n",
            "[14] [2]\n",
            "[14] [27] [2] [1]\n",
            "[14] [27] [2] [1]\n",
            "False\n"
          ]
        }
      ]
    }
  ]
}